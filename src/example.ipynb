{
 "cells": [
  {
   "metadata": {},
   "cell_type": "markdown",
   "source": [
    "<a href=\"https://colab.research.google.com/github/higherbar-ai/colab-or-not/blob/main/src/example.ipynb\" target=\"_parent\"><img alt=\"Open In Colab\" src=\"https://colab.research.google.com/assets/colab-badge.svg\"/></a>\n",
    "\n",
    "# About this notebook\n",
    "\n",
    "This notebook provides a simple example of how to use the `colab-or-not` package. It:\n",
    "\n",
    "1. Installs the package\n",
    "2. Imports the `NotebookBridge` class\n",
    "3. Sets up the notebook environment, including linking it to the GitHub repo and specifying custom requirements, modules, and configuration settings\n",
    "4. Reads and outputs the settings\n",
    "5. Calls a function in a custom module, which outputs some text\n",
    "6. Prompts the user to select one or more input files\n",
    "7. Outputs the list of selected or uploaded input files\n",
    "\n",
    "The first time you run this notebook outside of Google Colab, it will output a settings template for you to fill in and raise an error to say that you should go edit that file to customize the settings. You can run the file again, and it will use whatever settings are in that file. In Google Colab, the settings will be read from your secrets (click the key button in the left sidebar to add them). \n"
   ],
   "id": "4a6a76bfa2f94530"
  },
  {
   "metadata": {},
   "cell_type": "code",
   "source": [
    "%pip install colab-or-not\n",
    "\n",
    "from colab_or_not import NotebookBridge\n",
    "\n",
    "# Set up our notebook environment\n",
    "notebook_env = NotebookBridge(\n",
    "    github_repo=\"higherbar-ai/colab-or-not\",\n",
    "    requirements_path=\"example-requirements.txt\",\n",
    "    system_packages=[],\n",
    "    module_paths=[\n",
    "        \"src/example_module.py\",\n",
    "    ],\n",
    "    config_path=\"~/.hbai/colab-or-not.env\",\n",
    "    config_template={\n",
    "        \"SETTING_1\": \"setting 1 value\",\n",
    "        \"SETTING_2\": \"setting 2 value\",\n",
    "    }\n",
    ")\n",
    "notebook_env.setup_environment()\n",
    "\n",
    "# Read and output settings\n",
    "setting_1 = notebook_env.get_setting(\"SETTING_1\")\n",
    "setting_2 = notebook_env.get_setting(\"SETTING_2\")\n",
    "print()\n",
    "print(f\"Setting 1: {setting_1}\")\n",
    "print(f\"Setting 2: {setting_2}\")\n",
    "    \n",
    "# Use a function in a custom module (adding a type hint to ignore an import warning in Google Colab)\n",
    "import example_module   # type: ignore[import]\n",
    "example_module.example_function()\n",
    "\n",
    "# Prompt user for one or more input files\n",
    "input_files = notebook_env.get_input_files(prompt=\"Please select one or more input files\")\n",
    "\n",
    "# Output the list of selected or uploaded input files\n",
    "print()\n",
    "if not input_files:\n",
    "    print(\"No input files selected or uploaded.\")\n",
    "for input_file in input_files:\n",
    "    print(f\"Input file: {input_file}\")\n",
    "\n",
    "# Output the output directory (here, just the user home directory or Colab content root)\n",
    "output_dir = notebook_env.get_output_dir(not_colab_dir=\"~\", colab_subdir=\"\")\n",
    "print()\n",
    "print(f\"Output directory: {output_dir}\")"
   ],
   "id": "3ac92758ff9e73ce",
   "outputs": [],
   "execution_count": null
  }
 ],
 "metadata": {
  "kernelspec": {
   "display_name": "Python 3",
   "language": "python",
   "name": "python3"
  },
  "language_info": {
   "codemirror_mode": {
    "name": "ipython",
    "version": 2
   },
   "file_extension": ".py",
   "mimetype": "text/x-python",
   "name": "python",
   "nbconvert_exporter": "python",
   "pygments_lexer": "ipython2",
   "version": "2.7.6"
  }
 },
 "nbformat": 4,
 "nbformat_minor": 5
}
